{
    "cells": [
        {
            "metadata": {
                "collapsed": true
            },
            "cell_type": "markdown",
            "source": "#                                        Battle of Neighbourhoods - Week 4 Part 1\n    \n    \n## This notebook consist of two parts.\n\n### 1 Introduction/Business Problem\n\n   1.a Discussion of the business problem and the audience who would be interested in this project.\n\n### 2. Data Section\n\n   2.a What data is used?\n   2.b Importing Libraries\n   2.c Credentials and Core location\n   2.d Search for Mall\n   2.e Location of Mall"
        },
        {
            "metadata": {},
            "cell_type": "markdown",
            "source": "##  1. Introduction\n\n\nShopping malls can provide the best shopping experiences such as social gatherings, entertainment, performances, product launches, promotions and festivals. Malls can be very helpful because all the needs are in one building. Shopping malls tend to be a major tourist attraction.Shopping malls are becoming popular destinations because these are multi-storeyed air-conditioned buildings with shops on different floors. People have a large variety of goods to choose from whether branded or non- branded products.\n\n#### Benefits of Shopping Malls.\n\n1. They have their own parking facility.\n2. There is a wide variety of products available.\n3. There are products from competing producers available under one roof. ...\n4. They have facilities such as restrooms.\n5. They have gaming zones.\n6. There are food courts with a wide variety of cuisine.\n7. There are movie theatres in shopping centres.\n\nOpening a shopping mall allows property owner to earn consistant source of Income. Main critria to open a mall is location of the mall.Success or failuare of that mall is depend on the loaction of the mall.\n\n\n## Business Problem\n\nThe objective of the capstone project to find out location to open a new shopping mall in the city of chennai.\n\n### chennai City \n \nI have selected Chennai as a city to open a new mall for various various reasons. Few are discussed below.\n\nChennai, on the Bay of Bengal in eastern India, is the capital of the state of Tamil Nadu.Chennai is ranked as a beta-level city in the Global Cities Index, and was ranked the best city in India by India Today in the 2014 annual Indian city survey.\nChennai, the capital city of Tamil Nadu, attracts many visitors either as tourists or as part of its large workforce. Chennai is popular for IIT and for being an IT and industrial hub. The city is also renowned for its passion for music.\n\n### Expected / Interested Audience\n70% local and 30% foreign peoples visit Chennai once in a year as a tourist or on a business tour.Some people stay for couple of days or more.  They are insearch of multicusine restaurants and shopping hubs.\nChennai Suburbs is saturated by Multinational IT industries and various multinational manufacturing industries. But number of shopping complex are less as comapired to the population of subourbs Chennai. \n\nThe challenge is to find a suitable location for opening a new Shopping mall that will  attract to local and foreign people. \n\n"
        },
        {
            "metadata": {},
            "cell_type": "markdown",
            "source": "#                                        Battle of Neighbourhoods - Week 4 Part 2"
        },
        {
            "metadata": {},
            "cell_type": "markdown",
            "source": "## 2 Data Section\n\nTo solve the problem we need following data.\n\n* List of neighbourhood in the city of Chennai which is located in Tamilnadu state of India. \n* latitude and longitude of the neighbourhood to map the data and to select the venue.\n* To perform clustering on neighbourhood we need venue data related to shopping mall.\n\n2.a What data is used?\n\nWe will use wikipedia page https://en.wikipedia.org/wiki/Category:Suburbs_of_Chennai contains list of neighbourhoods in the chennai city which contain 68 neighbourhoods. we will use webscraping technique to extract data from wikipedia page with the help of python request and beautifulsoup package.\nWe will use python geocoder to get geographical data i.e. latitide and longitude coordintes of neighbourhoods.\n\nWe will use Foursquare API to get venue data of the neighbourhood. \nThe Foursquare Places API provides location based experiences with diverse information about venues, users, photos, and check-ins. The API supports real time access to places, Snap-to-Place that assigns users to specific locations, and Geo-tag. Additionally, Foursquare allows developers to build audience segments for analysis and measurement. JSON is the preferred response format.\nThese features will help us to solve our problem to find good location to open shopping mall.\n\n2.b Importing Liabraries\n\nWe will import basic python liabraries along with folium , geocoder,beautifulsoup,json etc.\n\n2.c Credentials and Core location, 2.d Search for Mall, 2.e Location of Mall\n\nTo fulfill above requirement we will use data science techiniques from web scraping (wikipedia), working with API (Foursquare), Data cleaning, data wrangling, machine learning (K means ALgirithm) and map visualiastion (Folium)."
        },
        {
            "metadata": {},
            "cell_type": "code",
            "source": "",
            "execution_count": null,
            "outputs": []
        }
    ],
    "metadata": {
        "kernelspec": {
            "name": "python3",
            "display_name": "Python 3.6",
            "language": "python"
        },
        "language_info": {
            "name": "python",
            "version": "3.6.9",
            "mimetype": "text/x-python",
            "codemirror_mode": {
                "name": "ipython",
                "version": 3
            },
            "pygments_lexer": "ipython3",
            "nbconvert_exporter": "python",
            "file_extension": ".py"
        }
    },
    "nbformat": 4,
    "nbformat_minor": 1
}